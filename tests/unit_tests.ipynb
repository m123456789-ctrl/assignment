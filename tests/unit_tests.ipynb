{
 "cells": [
  {
   "cell_type": "code",
   "execution_count": 0,
   "metadata": {
    "application/vnd.databricks.v1+cell": {
     "cellMetadata": {
      "byteLimit": 2048000,
      "rowLimit": 10000
     },
     "inputWidgets": {},
     "nuid": "31de2bb0-31c8-44b0-b3a4-67ae9baf5c1f",
     "showTitle": false,
     "tableResultSettingsMap": {},
     "title": ""
    }
   },
   "outputs": [],
   "source": [
    "path = \"/Workspace/Users/a845678@asb.dtcbtndsie.onmicrosoft.com/assignment\""
   ]
  },
  {
   "cell_type": "code",
   "execution_count": 0,
   "metadata": {
    "application/vnd.databricks.v1+cell": {
     "cellMetadata": {
      "byteLimit": 2048000,
      "rowLimit": 10000
     },
     "inputWidgets": {},
     "nuid": "39c30d93-d96b-4592-9a93-ad01d3b8fbca",
     "showTitle": false,
     "tableResultSettingsMap": {},
     "title": ""
    }
   },
   "outputs": [],
   "source": [
    "#Delete created tables by pipeline in order to test the main.py\n",
    "import os\n",
    "\n",
    "os.system(f\"rm -r {path}/data_storage/3_gold/Q_3_latest_price.parquet\")\n",
    "os.system(f\"rm -r {path}/data_storage/3_gold/Q_2_table_5y_avg_price.parquet\")\n",
    "os.system(f\"rm -r {path}/data_storage/3_gold/Q_1_pivot_table_sum_IKEA_stores.parquet\")\n",
    "\n",
    "os.system(f\"rm -r {path}/data_storage/1_bronze/src_stores/bronze_stores.json\")\n",
    "\n",
    "os.system(f\"rm -r {path}/data_storage/2_silver/silver_stores/silver_stores.csv\")\n",
    "os.system(f\"rm -r {path}/data_storage/2_silver/silver_economist/silver_big-mac-data.csv\")\n",
    "os.system(f\"rm -r {path}/data_storage/2_silver/silver_finance/silver_countries.csv\")"
   ]
  }
 ],
 "metadata": {
  "application/vnd.databricks.v1+notebook": {
   "computePreferences": null,
   "dashboards": [],
   "environmentMetadata": {
    "base_environment": "",
    "client": "1"
   },
   "language": "python",
   "notebookMetadata": {
    "pythonIndentUnit": 4
   },
   "notebookName": "unit_tests",
   "widgets": {}
  },
  "language_info": {
   "name": "python"
  }
 },
 "nbformat": 4,
 "nbformat_minor": 0
}
