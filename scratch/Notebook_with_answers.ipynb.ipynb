{
 "cells": [
  {
   "cell_type": "code",
   "execution_count": 0,
   "metadata": {
    "application/vnd.databricks.v1+cell": {
     "cellMetadata": {
      "byteLimit": 2048000,
      "rowLimit": 10000
     },
     "inputWidgets": {},
     "nuid": "c3b12fed-3685-449a-8288-bf7db1f5315c",
     "showTitle": false,
     "tableResultSettingsMap": {},
     "title": ""
    }
   },
   "outputs": [],
   "source": [
    "path = \"/Workspace/Users/a845678@asb.dtcbtndsie.onmicrosoft.com/assignment\""
   ]
  },
  {
   "cell_type": "code",
   "execution_count": 0,
   "metadata": {
    "application/vnd.databricks.v1+cell": {
     "cellMetadata": {},
     "inputWidgets": {},
     "nuid": "33004ee1-daf6-4ce3-bd79-1dd648ce214a",
     "showTitle": false,
     "tableResultSettingsMap": {},
     "title": ""
    }
   },
   "outputs": [],
   "source": [
    "import pandas as pd\n",
    "import numpy as np"
   ]
  },
  {
   "cell_type": "markdown",
   "metadata": {
    "application/vnd.databricks.v1+cell": {
     "cellMetadata": {
      "byteLimit": 2048000,
      "rowLimit": 10000
     },
     "inputWidgets": {},
     "nuid": "5a711690-ddb8-424f-b7c5-38a6ba38e031",
     "showTitle": false,
     "tableResultSettingsMap": {},
     "title": ""
    }
   },
   "source": [
    "### **Q_1**"
   ]
  },
  {
   "cell_type": "code",
   "execution_count": 0,
   "metadata": {
    "application/vnd.databricks.v1+cell": {
     "cellMetadata": {
      "byteLimit": 2048000,
      "rowLimit": 10000
     },
     "inputWidgets": {},
     "nuid": "79bbb6af-10c2-48aa-bbac-29431a13e1b4",
     "showTitle": false,
     "tableResultSettingsMap": {},
     "title": ""
    }
   },
   "outputs": [],
   "source": [
    "# Read countries silver table, select only the needed columns\n",
    "countries = pd.read_csv(f\"{path}/data_storage/2_silver/silver_finance/silver_countries.csv\")\n",
    "countries = countries[['name', 'alpha-2', 'alpha-3']]\n",
    "countries = countries.rename(columns={'name' : 'country-name'})\n",
    "\n",
    "# Read ikea_stores silver table, extract the alpha-2 code from locale column and select only the needed columns\n",
    "ikea_stores = pd.read_csv(f\"{path}/data_storage/2_silver/silver_stores/silver_stores.csv\")\n",
    "ikea_stores['alpha-2'] = ikea_stores['locale'].str[:2]\n",
    "ikea_stores['alpha-2'] = ikea_stores['alpha-2'].str.upper()\n",
    "ikea_stores = ikea_stores[['id', 'alpha-2']]\n",
    "ikea_stores = ikea_stores.drop_duplicates()\n",
    "\n",
    "# Inner join the two tables\n",
    "pivot_table = pd.merge(ikea_stores, countries, on='alpha-2', how='inner')\n",
    "pivot_table = pivot_table.sort_values(by='id')\n",
    "\n",
    "# Count the number of IKEA stores per country\n",
    "counts = pivot_table.groupby(['country-name', 'alpha-2', 'alpha-3']).size().reset_index(name='sum_of_IKEA_stores')\n",
    "\n",
    "display(counts)\n",
    "\n",
    "# Save the pivot table to a parquet file in gold layer\n",
    "counts.to_parquet(f\"{path}/data_storage/3_gold/Q_1_pivot_table_sum_IKEA_stores.parquet\", engine='pyarrow')"
   ]
  },
  {
   "cell_type": "markdown",
   "metadata": {
    "application/vnd.databricks.v1+cell": {
     "cellMetadata": {
      "byteLimit": 2048000,
      "rowLimit": 10000
     },
     "inputWidgets": {},
     "nuid": "98159c3c-0e37-4305-8f2e-180cd931056c",
     "showTitle": false,
     "tableResultSettingsMap": {},
     "title": ""
    }
   },
   "source": [
    "### **Q_2**"
   ]
  },
  {
   "cell_type": "code",
   "execution_count": 0,
   "metadata": {
    "application/vnd.databricks.v1+cell": {
     "cellMetadata": {
      "byteLimit": 2048000,
      "rowLimit": 10000
     },
     "inputWidgets": {},
     "nuid": "56998082-6173-4d96-8a03-808b86021874",
     "showTitle": false,
     "tableResultSettingsMap": {},
     "title": ""
    }
   },
   "outputs": [],
   "source": [
    "# Read the big mac silver table, select only the needed columns with data from the last 5 years\n",
    "big_mac = pd.read_csv(f\"{path}/data_storage/2_silver/silver_economist/silver_big-mac-data.csv\")\n",
    "big_mac['date'] = pd.to_datetime(big_mac['date'])\n",
    "big_mac = big_mac[big_mac['date'] >= pd.to_datetime('today') - pd.DateOffset(years=5)]\n",
    "big_mac['date'] = big_mac['date'].dt.strftime('%Y-%m-%d')\n",
    "big_mac = big_mac.rename(columns={'iso_a3' : 'alpha-3'})\n",
    "\n",
    "# Inner join with table created at Q1 since it contains the countries with IKEA stores\n",
    "merge_table = pd.merge(big_mac, counts, on='alpha-3', how='inner')\n",
    "\n",
    "# Create price_USD column\n",
    "merge_table['price_USD'] = np.where(merge_table['dollar_ex'] != 0, merge_table['local_price'] / merge_table['dollar_ex'], np.nan).round(2)\n",
    "\n",
    "# Select only needed columns\n",
    "merge_table = merge_table[['name', 'local_price', 'price_USD','date']]\n",
    "merge_table = merge_table.drop_duplicates()\n",
    "\n",
    "# Do average in last 5 years in local and USD price\n",
    "table_5y_avg_price = merge_table.groupby('name')[['local_price', 'price_USD']].mean().round(2).reset_index()\n",
    "\n",
    "display(table_5y_avg_price)\n",
    "\n",
    "# Save the table to a parquet file in gold layer\n",
    "table_5y_avg_price.to_parquet(f\"{path}/data_storage/3_gold/Q_2_table_5y_avg_price.parquet\", engine='pyarrow')"
   ]
  },
  {
   "cell_type": "markdown",
   "metadata": {
    "application/vnd.databricks.v1+cell": {
     "cellMetadata": {
      "byteLimit": 2048000,
      "rowLimit": 10000
     },
     "inputWidgets": {},
     "nuid": "4c59a6dd-d9cc-4fe7-a864-cc31600b85e7",
     "showTitle": false,
     "tableResultSettingsMap": {},
     "title": ""
    }
   },
   "source": [
    "### **Q_3**"
   ]
  },
  {
   "cell_type": "code",
   "execution_count": 0,
   "metadata": {
    "application/vnd.databricks.v1+cell": {
     "cellMetadata": {
      "byteLimit": 2048000,
      "rowLimit": 10000
     },
     "inputWidgets": {},
     "nuid": "3baba14d-c006-4f22-bc57-26c0832ee720",
     "showTitle": false,
     "tableResultSettingsMap": {},
     "title": ""
    }
   },
   "outputs": [],
   "source": [
    "# Use table from Q2 before doing the average in last 5 years in local and USD price\n",
    "merge_table['date'] = pd.to_datetime(merge_table['date'])\n",
    "\n",
    "# Keep only the latest price by ordering the date descending\n",
    "latest_price = merge_table.sort_values(by=['name', 'date'], ascending=[True, False])\n",
    "latest_price = latest_price.drop_duplicates(subset='name', keep='first')\n",
    "latest_price = latest_price[['name', 'local_price', 'price_USD']]\n",
    "\n",
    "# Save the table to a parquet file in gold layer\n",
    "display(latest_price)\n",
    "latest_price.to_parquet(f\"{path}/data_storage/3_gold/Q_3_latest_price.parquet\", engine='pyarrow')"
   ]
  },
  {
   "cell_type": "markdown",
   "metadata": {
    "application/vnd.databricks.v1+cell": {
     "cellMetadata": {},
     "inputWidgets": {},
     "nuid": "286d57fb-fa2f-4582-8717-1bec46d36136",
     "showTitle": false,
     "tableResultSettingsMap": {},
     "title": ""
    }
   },
   "source": [
    "### **Extra nugget**"
   ]
  },
  {
   "cell_type": "code",
   "execution_count": 0,
   "metadata": {
    "application/vnd.databricks.v1+cell": {
     "cellMetadata": {
      "byteLimit": 2048000,
      "rowLimit": 10000
     },
     "inputWidgets": {},
     "nuid": "9c78c287-c01d-479b-8102-b050770d8257",
     "showTitle": false,
     "tableResultSettingsMap": {},
     "title": ""
    }
   },
   "outputs": [],
   "source": [
    "# Which countries have an IKEA store but no big mac prices in the data provided\n",
    "display (counts[~counts['alpha-3'].isin(big_mac['alpha-3'])])\n"
   ]
  }
 ],
 "metadata": {
  "application/vnd.databricks.v1+notebook": {
   "computePreferences": null,
   "dashboards": [],
   "environmentMetadata": {
    "base_environment": "",
    "client": "1"
   },
   "language": "python",
   "notebookMetadata": {
    "pythonIndentUnit": 4
   },
   "notebookName": "Notebook_with_answers.ipynb",
   "widgets": {}
  },
  "language_info": {
   "name": "python"
  }
 },
 "nbformat": 4,
 "nbformat_minor": 0
}
