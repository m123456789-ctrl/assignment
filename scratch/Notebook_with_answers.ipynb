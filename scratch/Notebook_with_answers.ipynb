{
 "cells": [
  {
   "cell_type": "markdown",
   "metadata": {
    "application/vnd.databricks.v1+cell": {
     "cellMetadata": {},
     "inputWidgets": {},
     "nuid": "5a711690-ddb8-424f-b7c5-38a6ba38e031",
     "showTitle": false,
     "tableResultSettingsMap": {},
     "title": ""
    }
   },
   "source": [
    "### **Q_1**"
   ]
  },
  {
   "cell_type": "code",
   "execution_count": 0,
   "metadata": {
    "application/vnd.databricks.v1+cell": {
     "cellMetadata": {
      "byteLimit": 2048000,
      "rowLimit": 10000
     },
     "inputWidgets": {},
     "nuid": "6a56d963-de85-45d8-a21d-65ec2dc4ba6d",
     "showTitle": true,
     "tableResultSettingsMap": {},
     "title": "Q_1"
    }
   },
   "outputs": [],
   "source": [
    "import os\n",
    "print(os.getcwd())  # Check the current working directory"
   ]
  },
  {
   "cell_type": "markdown",
   "metadata": {
    "application/vnd.databricks.v1+cell": {
     "cellMetadata": {},
     "inputWidgets": {},
     "nuid": "98159c3c-0e37-4305-8f2e-180cd931056c",
     "showTitle": false,
     "tableResultSettingsMap": {},
     "title": ""
    }
   },
   "source": [
    "### **Q_2**"
   ]
  },
  {
   "cell_type": "code",
   "execution_count": 0,
   "metadata": {
    "application/vnd.databricks.v1+cell": {
     "cellMetadata": {
      "byteLimit": 2048000,
      "rowLimit": 10000
     },
     "inputWidgets": {},
     "nuid": "5f76d1e1-ff95-42f4-8a57-a60b3a1e5edc",
     "showTitle": false,
     "tableResultSettingsMap": {},
     "title": ""
    }
   },
   "outputs": [],
   "source": [
    "import os\n",
    "print(os.path.exists(\"/Workspace/Users/a845678@asb.dtcbtndsie.onmicrosoft.com/assignment/data_storage/1_bronze/src_finance/countries.csv\"))  # Check if the file exists\n",
    "print(os.path.abspath(\"/Workspace/Users/a845678@asb.dtcbtndsie.onmicrosoft.com/assignment/data_storage/1_bronze/src_finance/countries.csv\"))  # Print the absolute path\n"
   ]
  },
  {
   "cell_type": "code",
   "execution_count": 0,
   "metadata": {
    "application/vnd.databricks.v1+cell": {
     "cellMetadata": {
      "byteLimit": 2048000,
      "rowLimit": 10000
     },
     "inputWidgets": {},
     "nuid": "53b97696-f104-4ded-a6f3-5c4b4f4899c0",
     "showTitle": false,
     "tableResultSettingsMap": {},
     "title": ""
    }
   },
   "outputs": [],
   "source": [
    "path = \"/Workspace/Users/a845678@asb.dtcbtndsie.onmicrosoft.com/assignment/data_storage/1_bronze/src_finance/countries.csv\"  # Update with your actual file path\n",
    "dbutils.fs.ls(path)"
   ]
  },
  {
   "cell_type": "code",
   "execution_count": 0,
   "metadata": {
    "application/vnd.databricks.v1+cell": {
     "cellMetadata": {
      "byteLimit": 2048000,
      "rowLimit": 10000
     },
     "inputWidgets": {},
     "nuid": "0546deb3-64d9-4e34-85cb-cdd7b4c4847f",
     "showTitle": false,
     "tableResultSettingsMap": {},
     "title": ""
    }
   },
   "outputs": [],
   "source": [
    "import pandas as pd\n",
    "\n",
    "csv_path = '/Workspace/Users/a845678@asb.dtcbtndsie.onmicrosoft.com/assignment/data_storage/1_bronze/src_finance/countries.csv'  # Change the file name/path as needed\n",
    "df = pd.read_csv(path)\n",
    "\n",
    "# Show the first few rows\n",
    "display(df)\n",
    "\n",
    "# Display the schema\n",
    "print(df.dtypes)\n",
    "\n",
    "from pyspark.sql import SparkSession\n",
    "\n",
    "# Create a Spark session\n",
    "spark = SparkSession.builder.appName(\"Example\").getOrCreate()\n",
    "\n",
    "# Convert Pandas DataFrame to PySpark DataFrame\n",
    "pyspark_df = spark.createDataFrame(df)\n",
    "\n",
    "# Use printSchema\n",
    "pyspark_df.printSchema()"
   ]
  },
  {
   "cell_type": "markdown",
   "metadata": {
    "application/vnd.databricks.v1+cell": {
     "cellMetadata": {},
     "inputWidgets": {},
     "nuid": "4c59a6dd-d9cc-4fe7-a864-cc31600b85e7",
     "showTitle": false,
     "tableResultSettingsMap": {},
     "title": ""
    }
   },
   "source": [
    "### **Q_3**"
   ]
  }
 ],
 "metadata": {
  "application/vnd.databricks.v1+notebook": {
   "computePreferences": null,
   "dashboards": [],
   "environmentMetadata": {
    "base_environment": "",
    "client": "1"
   },
   "language": "python",
   "notebookMetadata": {
    "pythonIndentUnit": 4
   },
   "notebookName": "Notebook_with_answers",
   "widgets": {}
  },
  "language_info": {
   "name": "python"
  }
 },
 "nbformat": 4,
 "nbformat_minor": 0
}
