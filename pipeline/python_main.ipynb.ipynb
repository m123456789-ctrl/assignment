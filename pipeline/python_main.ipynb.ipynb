{
 "cells": [
  {
   "cell_type": "code",
   "execution_count": 0,
   "metadata": {
    "application/vnd.databricks.v1+cell": {
     "cellMetadata": {
      "byteLimit": 2048000,
      "rowLimit": 10000
     },
     "inputWidgets": {},
     "nuid": "efa931b2-e92c-492b-b975-2c3a9347379f",
     "showTitle": false,
     "tableResultSettingsMap": {},
     "title": ""
    }
   },
   "outputs": [],
   "source": [
    "%run /Workspace/Users/a845678@asb.dtcbtndsie.onmicrosoft.com/assignment/src/libraries_and_functions.ipynb"
   ]
  },
  {
   "cell_type": "code",
   "execution_count": 0,
   "metadata": {
    "application/vnd.databricks.v1+cell": {
     "cellMetadata": {
      "byteLimit": 2048000,
      "rowLimit": 10000
     },
     "inputWidgets": {},
     "nuid": "8c3e27d5-cd85-4ca6-9b0c-282a5dd4a461",
     "showTitle": false,
     "tableResultSettingsMap": {},
     "title": ""
    }
   },
   "outputs": [],
   "source": [
    "\n",
    "path = \"/Workspace/Users/a845678@asb.dtcbtndsie.onmicrosoft.com/assignment\"\n",
    "\n",
    "def main():\n",
    "\n",
    "    #Example silver table for countries created by a metadata-driven/config based pipeline\n",
    "    config_path = f\"{path}/resources/config.yml\"\n",
    "    config = load_config(config_path)\n",
    "    tables = config['tables']\n",
    "\n",
    "    for table in tables:\n",
    "        process_table(table, spark)\n",
    "    \n",
    "    #Create IKEA stores bronze json file based on the web request\n",
    "    dbutils.notebook.run(f\"{path}/pipeline/bronze_layer.ipynb\",60)\n",
    "    print(\"bronze_layer notebook run completed\")\n",
    "\n",
    "    #Create silver tables for IKEA stores and big-mac  \n",
    "    dbutils.notebook.run(f\"{path}/pipeline/silver_layer.ipynb\",60)\n",
    "    print(\"silver_layer notebook run completed\")\n",
    "\n",
    "    #Create gold tables in parquet format for the 3 questions\n",
    "    dbutils.notebook.run(f\"{path}/scratch/Notebook_with_answers.ipynb\",60)\n",
    "    print(\"Notebook_with_answers notebook run completed\")\n",
    "\n",
    "\n",
    "if __name__ == \"__main__\":\n",
    "    main()\n"
   ]
  }
 ],
 "metadata": {
  "application/vnd.databricks.v1+notebook": {
   "computePreferences": null,
   "dashboards": [],
   "environmentMetadata": {
    "base_environment": "",
    "client": "1"
   },
   "language": "python",
   "notebookMetadata": {
    "pythonIndentUnit": 4
   },
   "notebookName": "python_main.ipynb",
   "widgets": {}
  },
  "language_info": {
   "name": "python"
  }
 },
 "nbformat": 4,
 "nbformat_minor": 0
}
